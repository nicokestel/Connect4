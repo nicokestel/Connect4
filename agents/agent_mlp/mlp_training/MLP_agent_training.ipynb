{
 "cells": [
  {
   "cell_type": "markdown",
   "id": "biological-adventure",
   "metadata": {},
   "source": [
    "# Programming Project in Python\n",
    "\n",
    "# Connect-4\n",
    "## Training Setup for an Multilayer Perceptron Agent\n",
    "\n",
    "by William Gatsinzi & Nico Kestel"
   ]
  },
  {
   "cell_type": "code",
   "execution_count": 1,
   "id": "equivalent-angle",
   "metadata": {},
   "outputs": [
    {
     "name": "stdout",
     "output_type": "stream",
     "text": [
      "Requirement already satisfied: scipy in /Library/Frameworks/Python.framework/Versions/3.6/lib/python3.6/site-packages (1.5.4)\n",
      "Requirement already satisfied: numpy>=1.14.5 in /Library/Frameworks/Python.framework/Versions/3.6/lib/python3.6/site-packages (from scipy) (1.19.5)\n",
      "\u001b[33mYou are using pip version 18.1, however version 21.0 is available.\n",
      "You should consider upgrading via the 'pip install --upgrade pip' command.\u001b[0m\n",
      "Requirement already satisfied: matplotlib in /Library/Frameworks/Python.framework/Versions/3.6/lib/python3.6/site-packages (3.3.3)\n",
      "Requirement already satisfied: numpy>=1.15 in /Library/Frameworks/Python.framework/Versions/3.6/lib/python3.6/site-packages (from matplotlib) (1.19.5)\n",
      "Requirement already satisfied: cycler>=0.10 in /Library/Frameworks/Python.framework/Versions/3.6/lib/python3.6/site-packages (from matplotlib) (0.10.0)\n",
      "Requirement already satisfied: pillow>=6.2.0 in /Library/Frameworks/Python.framework/Versions/3.6/lib/python3.6/site-packages (from matplotlib) (8.1.0)\n",
      "Requirement already satisfied: python-dateutil>=2.1 in /Library/Frameworks/Python.framework/Versions/3.6/lib/python3.6/site-packages (from matplotlib) (2.8.1)\n",
      "Requirement already satisfied: kiwisolver>=1.0.1 in /Library/Frameworks/Python.framework/Versions/3.6/lib/python3.6/site-packages (from matplotlib) (1.3.1)\n",
      "Requirement already satisfied: pyparsing!=2.0.4,!=2.1.2,!=2.1.6,>=2.0.3 in /Library/Frameworks/Python.framework/Versions/3.6/lib/python3.6/site-packages (from matplotlib) (2.4.7)\n",
      "Requirement already satisfied: six in /Library/Frameworks/Python.framework/Versions/3.6/lib/python3.6/site-packages (from cycler>=0.10->matplotlib) (1.15.0)\n",
      "\u001b[33mYou are using pip version 18.1, however version 21.0 is available.\n",
      "You should consider upgrading via the 'pip install --upgrade pip' command.\u001b[0m\n"
     ]
    }
   ],
   "source": [
    "!pip3 install scipy\n",
    "!pip3 install matplotlib"
   ]
  },
  {
   "cell_type": "code",
   "execution_count": 177,
   "id": "parallel-guidance",
   "metadata": {},
   "outputs": [],
   "source": [
    "import scipy.io\n",
    "import matplotlib.pyplot as plt\n",
    "import numpy as np\n",
    "%matplotlib inline"
   ]
  },
  {
   "cell_type": "code",
   "execution_count": 212,
   "id": "colonial-oklahoma",
   "metadata": {},
   "outputs": [],
   "source": [
    "data_filename = 'C4-mlp-data.mat'\n",
    "dataset = scipy.io.loadmat(data_filename)"
   ]
  },
  {
   "cell_type": "code",
   "execution_count": 213,
   "id": "legitimate-inquiry",
   "metadata": {},
   "outputs": [],
   "source": [
    "data = dataset['data']\n",
    "labels = dataset['labels'][0, :]"
   ]
  },
  {
   "cell_type": "code",
   "execution_count": 214,
   "id": "excess-valuation",
   "metadata": {},
   "outputs": [
    {
     "data": {
      "text/plain": [
       "(numpy.ndarray, numpy.ndarray, numpy.int8, numpy.ndarray, numpy.int8)"
      ]
     },
     "execution_count": 214,
     "metadata": {},
     "output_type": "execute_result"
    }
   ],
   "source": [
    "type(data), type(data[0]), type(data[0][0]), type(labels), type(labels[0])"
   ]
  },
  {
   "cell_type": "code",
   "execution_count": 215,
   "id": "persistent-precipitation",
   "metadata": {},
   "outputs": [
    {
     "data": {
      "text/plain": [
       "((11475, 42), (11475,))"
      ]
     },
     "execution_count": 215,
     "metadata": {},
     "output_type": "execute_result"
    }
   ],
   "source": [
    "data.shape, labels.shape"
   ]
  },
  {
   "cell_type": "code",
   "execution_count": 216,
   "id": "spoken-catalyst",
   "metadata": {
    "scrolled": false
   },
   "outputs": [
    {
     "data": {
      "image/png": "[encoded data removed]",
      "text/plain": [
       "<Figure size 540x432 with 15 Axes>"
      ]
     },
     "metadata": {
      "needs_background": "light"
     },
     "output_type": "display_data"
    }
   ],
   "source": [
    "num_row = 3\n",
    "num_col = 5\n",
    "num = num_row * num_col\n",
    "\n",
    "# plot boards\n",
    "fig, axes = plt.subplots(num_row, num_col, figsize=(1.5*num_col,2*num_row))\n",
    "for i in range(num):\n",
    "    ax = axes[i//num_col, i%num_col]\n",
    "    ax.imshow(np.fliplr(data[i][::-1].reshape(6, 7)))\n",
    "    ax.set_title('Move: {}'.format(labels[i]))\n",
    "plt.tight_layout()\n",
    "plt.show()"
   ]
  },
  {
   "cell_type": "code",
   "execution_count": 217,
   "id": "refined-publicity",
   "metadata": {},
   "outputs": [],
   "source": [
    "values, counts = np.unique(labels, return_counts=True)"
   ]
  },
  {
   "cell_type": "code",
   "execution_count": 218,
   "id": "statewide-ordinary",
   "metadata": {},
   "outputs": [
    {
     "data": {
      "text/plain": [
       "(array([0, 1, 2, 3, 4, 5, 6], dtype=int8),\n",
       " array([1441, 1540, 1732, 2108, 1668, 1537, 1449]))"
      ]
     },
     "execution_count": 218,
     "metadata": {},
     "output_type": "execute_result"
    }
   ],
   "source": [
    "values, counts"
   ]
  },
  {
   "cell_type": "code",
   "execution_count": 219,
   "id": "hollow-granny",
   "metadata": {},
   "outputs": [
    {
     "data": {
      "text/plain": [
       "<BarContainer object of 7 artists>"
      ]
     },
     "execution_count": 219,
     "metadata": {},
     "output_type": "execute_result"
    },
    {
     "data": {
      "image/png": "[encoded data removed]",
      "text/plain": [
       "<Figure size 432x288 with 1 Axes>"
      ]
     },
     "metadata": {
      "needs_background": "light"
     },
     "output_type": "display_data"
    }
   ],
   "source": [
    "plt.bar(values, counts, width=.8)"
   ]
  },
  {
   "cell_type": "code",
   "execution_count": 220,
   "id": "recorded-warren",
   "metadata": {},
   "outputs": [],
   "source": [
    "n_matches = 550\n",
    "entries = len(labels)\n",
    "moves_per_game = entries / (2*n_matches)"
   ]
  },
  {
   "cell_type": "code",
   "execution_count": 221,
   "id": "nasty-industry",
   "metadata": {},
   "outputs": [
    {
     "data": {
      "text/plain": [
       "10.431818181818182"
      ]
     },
     "execution_count": 221,
     "metadata": {},
     "output_type": "execute_result"
    }
   ],
   "source": [
    "moves_per_game"
   ]
  },
  {
   "cell_type": "code",
   "execution_count": null,
   "id": "brown-individual",
   "metadata": {},
   "outputs": [],
   "source": []
  },
  {
   "cell_type": "code",
   "execution_count": null,
   "id": "above-inside",
   "metadata": {},
   "outputs": [],
   "source": []
  }
 ],
 "metadata": {
  "kernelspec": {
   "display_name": "Python 3",
   "language": "python",
   "name": "python3"
  },
  "language_info": {
   "codemirror_mode": {
    "name": "ipython",
    "version": 3
   },
   "file_extension": ".py",
   "mimetype": "text/x-python",
   "name": "python",
   "nbconvert_exporter": "python",
   "pygments_lexer": "ipython3",
   "version": "3.6.8"
  }
 },
 "nbformat": 4,
 "nbformat_minor": 5
}
